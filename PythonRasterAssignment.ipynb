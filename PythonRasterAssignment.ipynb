{
 "metadata": {
  "name": "",
  "signature": "sha256:e65ca6b5445a61cf150fd08657734ce0c4c91df653c0f01d9173681a6737f525"
 },
 "nbformat": 3,
 "nbformat_minor": 0,
 "worksheets": [
  {
   "cells": [
    {
     "cell_type": "heading",
     "level": 1,
     "metadata": {},
     "source": [
      "Exercise: NDWI and reprojection in python"
     ]
    },
    {
     "cell_type": "heading",
     "level": 6,
     "metadata": {},
     "source": [
      "Author: TheLeopards (Samantha Krawczyk, Georgios Anastasiou)"
     ]
    },
    {
     "cell_type": "heading",
     "level": 6,
     "metadata": {},
     "source": [
      "20 January 2016"
     ]
    },
    {
     "cell_type": "heading",
     "level": 6,
     "metadata": {},
     "source": [
      "Calculating NDWI from Landsat image, reprojecting using Linux terminal"
     ]
    },
    {
     "cell_type": "markdown",
     "metadata": {},
     "source": [
      "The Landsat image was downloaded from the following link: https://www.dropbox.com/s/zb7nrla6fqi1mq4/LC81980242014260-SC20150123044700.tar.gz?dl=0"
     ]
    },
    {
     "cell_type": "heading",
     "level": 4,
     "metadata": {},
     "source": [
      "1 Import required modules, set working directory and import images"
     ]
    },
    {
     "cell_type": "code",
     "collapsed": false,
     "input": [
      "import os\n",
      "from osgeo import gdal\n",
      "from osgeo.gdalconst import GA_ReadOnly, GDT_Float32\n",
      "import numpy as np\n",
      "\n",
      "\n",
      "# change working directory if needed:\n",
      "os.chdir('../data')\n",
      "\n",
      "# Check working directory if needed\n",
      "# os.getcwd()"
     ],
     "language": "python",
     "metadata": {},
     "outputs": [
      {
       "metadata": {},
       "output_type": "pyout",
       "prompt_number": 33,
       "text": [
        "'/home/user/PythonProjects/PyRaster/data'"
       ]
      }
     ],
     "prompt_number": 33
    },
    {
     "cell_type": "heading",
     "level": 4,
     "metadata": {},
     "source": [
      "2 Reading the data into arrays"
     ]
    },
    {
     "cell_type": "code",
     "collapsed": false,
     "input": [
      "Band4 = '../data/LC81980242014260LGN00_sr_band4.tif'\n",
      "Band5 = '../data/LC81980242014260LGN00_sr_band5.tif'\n",
      "\n",
      "file_list = [Band4, Band5]\n",
      "band_list = list()\n",
      "\n",
      "for i in range(0,len(file_list)):\n",
      "    dataSource = gdal.Open(file_list[i], GA_ReadOnly)\n",
      "    band = dataSource.ReadAsArray(0,0,dataSource.RasterXSize, dataSource.RasterYSize)\n",
      "    band_list.append(band.astype(np.float32))"
     ],
     "language": "python",
     "metadata": {},
     "outputs": [],
     "prompt_number": 34
    },
    {
     "cell_type": "heading",
     "level": 4,
     "metadata": {},
     "source": [
      "3 Deriving the NDWI and writing the raster data"
     ]
    },
    {
     "cell_type": "markdown",
     "metadata": {},
     "source": [
      "Small subsets have been created in order to have a clearer picture of what is happening as a result of the script (this method received Jan Verbesselt's approval!)."
     ]
    },
    {
     "cell_type": "code",
     "collapsed": false,
     "input": [
      "subband1 = band_list[0][5000:5100,5000:5100]\n",
      "subband2 = band_list[1][5000:5100,5000:5100]\n",
      "\n",
      "def NDWI(x,y):\n",
      "    mask = np.greater(x+y,0)\n",
      "    with np.errstate(invalid='ignore'):\n",
      "        ndwi = np.choose(mask,(-99,(x-y)/(x+y)))\n",
      "    # Write the result to disk\n",
      "    driver = gdal.GetDriverByName('GTiff')\n",
      "    outDataSet=driver.Create('../data/ndwi.tif', dataSource.RasterXSize, dataSource.RasterYSize, 1, GDT_Float32)\n",
      "    outBand = outDataSet.GetRasterBand(1)\n",
      "    outBand.WriteArray(ndwi,0,0)\n",
      "    outBand.SetNoDataValue(-99)\n",
      "    # set the projection and extent information of the dataset\n",
      "    outDataSet.SetProjection(dataSource.GetProjection())\n",
      "    outDataSet.SetGeoTransform(dataSource.GetGeoTransform())\n",
      "    # saving the dataset\n",
      "    outBand.FlushCache()\n",
      "    outDataSet.FlushCache()\n",
      "\n",
      "NDWI(subband1, subband2)"
     ],
     "language": "python",
     "metadata": {},
     "outputs": [],
     "prompt_number": 40
    },
    {
     "cell_type": "heading",
     "level": 4,
     "metadata": {},
     "source": [
      "4 Reprojecting the NDWI dataset in terminal"
     ]
    },
    {
     "cell_type": "code",
     "collapsed": false,
     "input": [
      "!gdalwarp -t_srs \"EPSG:4326\" ../data/ndwi.tif ../data/ndwi_ll.tif"
     ],
     "language": "python",
     "metadata": {},
     "outputs": [
      {
       "output_type": "stream",
       "stream": "stdout",
       "text": [
        "Creating output file that is 9790P x 6168L.\r\n",
        "Processing input file ../data/ndwi.tif.\r\n",
        "Using internal nodata values (e.g. -99) for image ../data/ndwi.tif.\r\n",
        "Copying nodata values from source ../data/ndwi.tif to destination ../data/ndwi_ll.tif.\r\n"
       ]
      },
      {
       "output_type": "stream",
       "stream": "stdout",
       "text": [
        "0"
       ]
      },
      {
       "output_type": "stream",
       "stream": "stdout",
       "text": [
        "."
       ]
      },
      {
       "output_type": "stream",
       "stream": "stdout",
       "text": [
        ".."
       ]
      },
      {
       "output_type": "stream",
       "stream": "stdout",
       "text": [
        "10"
       ]
      },
      {
       "output_type": "stream",
       "stream": "stdout",
       "text": [
        "."
       ]
      },
      {
       "output_type": "stream",
       "stream": "stdout",
       "text": [
        ".."
       ]
      },
      {
       "output_type": "stream",
       "stream": "stdout",
       "text": [
        "20"
       ]
      },
      {
       "output_type": "stream",
       "stream": "stdout",
       "text": [
        "."
       ]
      },
      {
       "output_type": "stream",
       "stream": "stdout",
       "text": [
        "."
       ]
      },
      {
       "output_type": "stream",
       "stream": "stdout",
       "text": [
        ".30"
       ]
      },
      {
       "output_type": "stream",
       "stream": "stdout",
       "text": [
        "."
       ]
      },
      {
       "output_type": "stream",
       "stream": "stdout",
       "text": [
        "."
       ]
      },
      {
       "output_type": "stream",
       "stream": "stdout",
       "text": [
        "."
       ]
      },
      {
       "output_type": "stream",
       "stream": "stdout",
       "text": [
        "40"
       ]
      },
      {
       "output_type": "stream",
       "stream": "stdout",
       "text": [
        ".."
       ]
      },
      {
       "output_type": "stream",
       "stream": "stdout",
       "text": [
        "."
       ]
      },
      {
       "output_type": "stream",
       "stream": "stdout",
       "text": [
        "50"
       ]
      },
      {
       "output_type": "stream",
       "stream": "stdout",
       "text": [
        "."
       ]
      },
      {
       "output_type": "stream",
       "stream": "stdout",
       "text": [
        ".."
       ]
      },
      {
       "output_type": "stream",
       "stream": "stdout",
       "text": [
        "60"
       ]
      },
      {
       "output_type": "stream",
       "stream": "stdout",
       "text": [
        ".."
       ]
      },
      {
       "output_type": "stream",
       "stream": "stdout",
       "text": [
        "."
       ]
      },
      {
       "output_type": "stream",
       "stream": "stdout",
       "text": [
        "70"
       ]
      },
      {
       "output_type": "stream",
       "stream": "stdout",
       "text": [
        "."
       ]
      },
      {
       "output_type": "stream",
       "stream": "stdout",
       "text": [
        "."
       ]
      },
      {
       "output_type": "stream",
       "stream": "stdout",
       "text": [
        "."
       ]
      },
      {
       "output_type": "stream",
       "stream": "stdout",
       "text": [
        "80."
       ]
      },
      {
       "output_type": "stream",
       "stream": "stdout",
       "text": [
        "."
       ]
      },
      {
       "output_type": "stream",
       "stream": "stdout",
       "text": [
        ".90"
       ]
      },
      {
       "output_type": "stream",
       "stream": "stdout",
       "text": [
        "."
       ]
      },
      {
       "output_type": "stream",
       "stream": "stdout",
       "text": [
        "."
       ]
      },
      {
       "output_type": "stream",
       "stream": "stdout",
       "text": [
        ".100 - done.\r\n"
       ]
      }
     ],
     "prompt_number": 37
    }
   ],
   "metadata": {}
  }
 ]
}